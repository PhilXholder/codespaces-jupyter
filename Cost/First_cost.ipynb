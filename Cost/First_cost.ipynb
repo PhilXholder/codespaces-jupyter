{
 "cells": [
  {
   "cell_type": "code",
   "execution_count": 9,
   "metadata": {
    "collapsed": true,
    "ExecuteTime": {
     "end_time": "2023-06-05T14:50:57.346877Z",
     "start_time": "2023-06-05T14:50:57.122168Z"
    }
   },
   "outputs": [
    {
     "name": "stdout",
     "output_type": "stream",
     "text": [
      "       ts_code trade_date   open   high    low  close  pre_close  change  \\\n",
      "0    605011.SH   20230605  37.99  42.41  37.90  42.41      38.55    3.86   \n",
      "1    605011.SH   20230602  37.86  40.27  37.03  38.55      38.36    0.19   \n",
      "2    605011.SH   20230601  36.87  39.00  36.55  38.36      38.37   -0.01   \n",
      "3    605011.SH   20230531  40.69  41.43  38.49  38.53      42.46   -3.93   \n",
      "4    605011.SH   20230530  37.80  42.46  37.80  42.46      38.60    3.86   \n",
      "..         ...        ...    ...    ...    ...    ...        ...     ...   \n",
      "464  605011.SH   20210706  13.01  13.01  13.01  13.01      11.83    1.18   \n",
      "465  605011.SH   20210705  11.83  11.83  11.83  11.83      10.75    1.08   \n",
      "466  605011.SH   20210702  10.75  10.75  10.75  10.75       9.77    0.98   \n",
      "467  605011.SH   20210701   9.77   9.77   9.77   9.77       8.88    0.89   \n",
      "468  605011.SH   20210630   7.40   8.88   7.40   8.88       6.17    2.71   \n",
      "\n",
      "     pct_chg        vol       amount  \n",
      "0    10.0130  253086.87  1031503.549  \n",
      "1     0.4953  179417.45   699763.566  \n",
      "2    -0.0261  186631.16   700922.531  \n",
      "3    -9.2558  217811.11   865711.880  \n",
      "4    10.0000  244339.44   986992.726  \n",
      "..       ...        ...          ...  \n",
      "464   9.9746    3106.60     4041.687  \n",
      "465  10.0465    2204.94     2608.444  \n",
      "466  10.0307    1137.85     1223.189  \n",
      "467  10.0225     615.50      601.344  \n",
      "468  43.9222    1832.02     1624.614  \n",
      "\n",
      "[469 rows x 11 columns]\n"
     ]
    }
   ],
   "source": [
    "# 导入tushare\n",
    "import tushare as ts\n",
    "# 初始化pro接口\n",
    "pro = ts.pro_api('ae53ac33060041c258be8cea5e1a9ed204b4a3f0fb217db6fcc80ef8')\n",
    "\n",
    "# 拉取数据\n",
    "df = pro.daily(**{\n",
    "    \"ts_code\": '605011.SH',\n",
    "    \"trade_date\": \"\",\n",
    "    \"start_date\": \"\",\n",
    "    \"end_date\": \"\",\n",
    "    \"offset\": \"\",\n",
    "    \"limit\": 500\n",
    "}, fields=[\n",
    "    \"ts_code\",\n",
    "    \"trade_date\",\n",
    "    \"open\",\n",
    "    \"high\",\n",
    "    \"low\",\n",
    "    \"close\",\n",
    "    \"pre_close\",\n",
    "    \"change\",\n",
    "    \"pct_chg\",\n",
    "    \"vol\",\n",
    "    \"amount\"\n",
    "])\n",
    "print(df)"
   ]
  },
  {
   "cell_type": "code",
   "execution_count": 10,
   "outputs": [
    {
     "name": "stdout",
     "output_type": "stream",
     "text": [
      "[Getting data:]###"
     ]
    },
    {
     "name": "stderr",
     "output_type": "stream",
     "text": [
      "/Users/phil/opt/anaconda3/envs/work_all/lib/python3.9/site-packages/tushare/stock/trading.py:326: FutureWarning: The frame.append method is deprecated and will be removed from pandas in a future version. Use pandas.concat instead.\n",
      "  df = df.append(newdf, ignore_index=True)\n"
     ]
    },
    {
     "name": "stdout",
     "output_type": "stream",
     "text": [
      "#"
     ]
    },
    {
     "name": "stderr",
     "output_type": "stream",
     "text": [
      "/Users/phil/opt/anaconda3/envs/work_all/lib/python3.9/site-packages/tushare/stock/trading.py:326: FutureWarning: The frame.append method is deprecated and will be removed from pandas in a future version. Use pandas.concat instead.\n",
      "  df = df.append(newdf, ignore_index=True)\n"
     ]
    },
    {
     "name": "stdout",
     "output_type": "stream",
     "text": [
      "#"
     ]
    },
    {
     "name": "stderr",
     "output_type": "stream",
     "text": [
      "/Users/phil/opt/anaconda3/envs/work_all/lib/python3.9/site-packages/tushare/stock/trading.py:326: FutureWarning: The frame.append method is deprecated and will be removed from pandas in a future version. Use pandas.concat instead.\n",
      "  df = df.append(newdf, ignore_index=True)\n"
     ]
    },
    {
     "name": "stdout",
     "output_type": "stream",
     "text": [
      "#"
     ]
    },
    {
     "name": "stderr",
     "output_type": "stream",
     "text": [
      "/Users/phil/opt/anaconda3/envs/work_all/lib/python3.9/site-packages/tushare/stock/trading.py:326: FutureWarning: The frame.append method is deprecated and will be removed from pandas in a future version. Use pandas.concat instead.\n",
      "  df = df.append(newdf, ignore_index=True)\n"
     ]
    },
    {
     "name": "stdout",
     "output_type": "stream",
     "text": [
      "#"
     ]
    },
    {
     "name": "stderr",
     "output_type": "stream",
     "text": [
      "/Users/phil/opt/anaconda3/envs/work_all/lib/python3.9/site-packages/tushare/stock/trading.py:326: FutureWarning: The frame.append method is deprecated and will be removed from pandas in a future version. Use pandas.concat instead.\n",
      "  df = df.append(newdf, ignore_index=True)\n"
     ]
    },
    {
     "name": "stdout",
     "output_type": "stream",
     "text": [
      "#"
     ]
    },
    {
     "name": "stderr",
     "output_type": "stream",
     "text": [
      "/Users/phil/opt/anaconda3/envs/work_all/lib/python3.9/site-packages/tushare/stock/trading.py:326: FutureWarning: The frame.append method is deprecated and will be removed from pandas in a future version. Use pandas.concat instead.\n",
      "  df = df.append(newdf, ignore_index=True)\n"
     ]
    },
    {
     "name": "stdout",
     "output_type": "stream",
     "text": [
      "#"
     ]
    },
    {
     "name": "stderr",
     "output_type": "stream",
     "text": [
      "/Users/phil/opt/anaconda3/envs/work_all/lib/python3.9/site-packages/tushare/stock/trading.py:326: FutureWarning: The frame.append method is deprecated and will be removed from pandas in a future version. Use pandas.concat instead.\n",
      "  df = df.append(newdf, ignore_index=True)\n"
     ]
    },
    {
     "name": "stdout",
     "output_type": "stream",
     "text": [
      "#"
     ]
    },
    {
     "name": "stderr",
     "output_type": "stream",
     "text": [
      "/Users/phil/opt/anaconda3/envs/work_all/lib/python3.9/site-packages/tushare/stock/trading.py:326: FutureWarning: The frame.append method is deprecated and will be removed from pandas in a future version. Use pandas.concat instead.\n",
      "  df = df.append(newdf, ignore_index=True)\n"
     ]
    },
    {
     "name": "stdout",
     "output_type": "stream",
     "text": [
      "#"
     ]
    },
    {
     "name": "stderr",
     "output_type": "stream",
     "text": [
      "/Users/phil/opt/anaconda3/envs/work_all/lib/python3.9/site-packages/tushare/stock/trading.py:326: FutureWarning: The frame.append method is deprecated and will be removed from pandas in a future version. Use pandas.concat instead.\n",
      "  df = df.append(newdf, ignore_index=True)\n"
     ]
    },
    {
     "name": "stdout",
     "output_type": "stream",
     "text": [
      "#"
     ]
    },
    {
     "name": "stderr",
     "output_type": "stream",
     "text": [
      "/Users/phil/opt/anaconda3/envs/work_all/lib/python3.9/site-packages/tushare/stock/trading.py:326: FutureWarning: The frame.append method is deprecated and will be removed from pandas in a future version. Use pandas.concat instead.\n",
      "  df = df.append(newdf, ignore_index=True)\n"
     ]
    },
    {
     "name": "stdout",
     "output_type": "stream",
     "text": [
      "#"
     ]
    },
    {
     "name": "stderr",
     "output_type": "stream",
     "text": [
      "/Users/phil/opt/anaconda3/envs/work_all/lib/python3.9/site-packages/tushare/stock/trading.py:326: FutureWarning: The frame.append method is deprecated and will be removed from pandas in a future version. Use pandas.concat instead.\n",
      "  df = df.append(newdf, ignore_index=True)\n"
     ]
    },
    {
     "name": "stdout",
     "output_type": "stream",
     "text": [
      "#"
     ]
    },
    {
     "name": "stderr",
     "output_type": "stream",
     "text": [
      "/Users/phil/opt/anaconda3/envs/work_all/lib/python3.9/site-packages/tushare/stock/trading.py:326: FutureWarning: The frame.append method is deprecated and will be removed from pandas in a future version. Use pandas.concat instead.\n",
      "  df = df.append(newdf, ignore_index=True)\n"
     ]
    },
    {
     "name": "stdout",
     "output_type": "stream",
     "text": [
      "#"
     ]
    },
    {
     "name": "stderr",
     "output_type": "stream",
     "text": [
      "/Users/phil/opt/anaconda3/envs/work_all/lib/python3.9/site-packages/tushare/stock/trading.py:326: FutureWarning: The frame.append method is deprecated and will be removed from pandas in a future version. Use pandas.concat instead.\n",
      "  df = df.append(newdf, ignore_index=True)\n"
     ]
    },
    {
     "name": "stdout",
     "output_type": "stream",
     "text": [
      "#"
     ]
    },
    {
     "name": "stderr",
     "output_type": "stream",
     "text": [
      "/Users/phil/opt/anaconda3/envs/work_all/lib/python3.9/site-packages/tushare/stock/trading.py:326: FutureWarning: The frame.append method is deprecated and will be removed from pandas in a future version. Use pandas.concat instead.\n",
      "  df = df.append(newdf, ignore_index=True)\n"
     ]
    },
    {
     "name": "stdout",
     "output_type": "stream",
     "text": [
      "#"
     ]
    },
    {
     "name": "stderr",
     "output_type": "stream",
     "text": [
      "/Users/phil/opt/anaconda3/envs/work_all/lib/python3.9/site-packages/tushare/stock/trading.py:326: FutureWarning: The frame.append method is deprecated and will be removed from pandas in a future version. Use pandas.concat instead.\n",
      "  df = df.append(newdf, ignore_index=True)\n"
     ]
    },
    {
     "name": "stdout",
     "output_type": "stream",
     "text": [
      "#"
     ]
    },
    {
     "name": "stderr",
     "output_type": "stream",
     "text": [
      "/Users/phil/opt/anaconda3/envs/work_all/lib/python3.9/site-packages/tushare/stock/trading.py:326: FutureWarning: The frame.append method is deprecated and will be removed from pandas in a future version. Use pandas.concat instead.\n",
      "  df = df.append(newdf, ignore_index=True)\n"
     ]
    },
    {
     "name": "stdout",
     "output_type": "stream",
     "text": [
      "#"
     ]
    },
    {
     "name": "stderr",
     "output_type": "stream",
     "text": [
      "/Users/phil/opt/anaconda3/envs/work_all/lib/python3.9/site-packages/tushare/stock/trading.py:326: FutureWarning: The frame.append method is deprecated and will be removed from pandas in a future version. Use pandas.concat instead.\n",
      "  df = df.append(newdf, ignore_index=True)\n"
     ]
    },
    {
     "name": "stdout",
     "output_type": "stream",
     "text": [
      "#"
     ]
    },
    {
     "name": "stderr",
     "output_type": "stream",
     "text": [
      "/Users/phil/opt/anaconda3/envs/work_all/lib/python3.9/site-packages/tushare/stock/trading.py:326: FutureWarning: The frame.append method is deprecated and will be removed from pandas in a future version. Use pandas.concat instead.\n",
      "  df = df.append(newdf, ignore_index=True)\n"
     ]
    },
    {
     "name": "stdout",
     "output_type": "stream",
     "text": [
      "#"
     ]
    },
    {
     "name": "stderr",
     "output_type": "stream",
     "text": [
      "/Users/phil/opt/anaconda3/envs/work_all/lib/python3.9/site-packages/tushare/stock/trading.py:326: FutureWarning: The frame.append method is deprecated and will be removed from pandas in a future version. Use pandas.concat instead.\n",
      "  df = df.append(newdf, ignore_index=True)\n"
     ]
    },
    {
     "name": "stdout",
     "output_type": "stream",
     "text": [
      "#"
     ]
    },
    {
     "name": "stderr",
     "output_type": "stream",
     "text": [
      "/Users/phil/opt/anaconda3/envs/work_all/lib/python3.9/site-packages/tushare/stock/trading.py:326: FutureWarning: The frame.append method is deprecated and will be removed from pandas in a future version. Use pandas.concat instead.\n",
      "  df = df.append(newdf, ignore_index=True)\n"
     ]
    },
    {
     "name": "stdout",
     "output_type": "stream",
     "text": [
      "#"
     ]
    },
    {
     "name": "stderr",
     "output_type": "stream",
     "text": [
      "/Users/phil/opt/anaconda3/envs/work_all/lib/python3.9/site-packages/tushare/stock/trading.py:326: FutureWarning: The frame.append method is deprecated and will be removed from pandas in a future version. Use pandas.concat instead.\n",
      "  df = df.append(newdf, ignore_index=True)\n"
     ]
    },
    {
     "name": "stdout",
     "output_type": "stream",
     "text": [
      "#"
     ]
    },
    {
     "name": "stderr",
     "output_type": "stream",
     "text": [
      "/Users/phil/opt/anaconda3/envs/work_all/lib/python3.9/site-packages/tushare/stock/trading.py:326: FutureWarning: The frame.append method is deprecated and will be removed from pandas in a future version. Use pandas.concat instead.\n",
      "  df = df.append(newdf, ignore_index=True)\n"
     ]
    },
    {
     "name": "stdout",
     "output_type": "stream",
     "text": [
      "#"
     ]
    },
    {
     "name": "stderr",
     "output_type": "stream",
     "text": [
      "/Users/phil/opt/anaconda3/envs/work_all/lib/python3.9/site-packages/tushare/stock/trading.py:326: FutureWarning: The frame.append method is deprecated and will be removed from pandas in a future version. Use pandas.concat instead.\n",
      "  df = df.append(newdf, ignore_index=True)\n"
     ]
    },
    {
     "name": "stdout",
     "output_type": "stream",
     "text": [
      "#"
     ]
    },
    {
     "name": "stderr",
     "output_type": "stream",
     "text": [
      "/Users/phil/opt/anaconda3/envs/work_all/lib/python3.9/site-packages/tushare/stock/trading.py:326: FutureWarning: The frame.append method is deprecated and will be removed from pandas in a future version. Use pandas.concat instead.\n",
      "  df = df.append(newdf, ignore_index=True)\n"
     ]
    },
    {
     "name": "stdout",
     "output_type": "stream",
     "text": [
      "#"
     ]
    },
    {
     "name": "stderr",
     "output_type": "stream",
     "text": [
      "/Users/phil/opt/anaconda3/envs/work_all/lib/python3.9/site-packages/tushare/stock/trading.py:326: FutureWarning: The frame.append method is deprecated and will be removed from pandas in a future version. Use pandas.concat instead.\n",
      "  df = df.append(newdf, ignore_index=True)\n"
     ]
    },
    {
     "name": "stdout",
     "output_type": "stream",
     "text": [
      "#"
     ]
    },
    {
     "name": "stderr",
     "output_type": "stream",
     "text": [
      "/Users/phil/opt/anaconda3/envs/work_all/lib/python3.9/site-packages/tushare/stock/trading.py:326: FutureWarning: The frame.append method is deprecated and will be removed from pandas in a future version. Use pandas.concat instead.\n",
      "  df = df.append(newdf, ignore_index=True)\n"
     ]
    },
    {
     "name": "stdout",
     "output_type": "stream",
     "text": [
      "#"
     ]
    },
    {
     "name": "stderr",
     "output_type": "stream",
     "text": [
      "/Users/phil/opt/anaconda3/envs/work_all/lib/python3.9/site-packages/tushare/stock/trading.py:326: FutureWarning: The frame.append method is deprecated and will be removed from pandas in a future version. Use pandas.concat instead.\n",
      "  df = df.append(newdf, ignore_index=True)\n"
     ]
    },
    {
     "name": "stdout",
     "output_type": "stream",
     "text": [
      "#"
     ]
    },
    {
     "name": "stderr",
     "output_type": "stream",
     "text": [
      "/Users/phil/opt/anaconda3/envs/work_all/lib/python3.9/site-packages/tushare/stock/trading.py:326: FutureWarning: The frame.append method is deprecated and will be removed from pandas in a future version. Use pandas.concat instead.\n",
      "  df = df.append(newdf, ignore_index=True)\n"
     ]
    },
    {
     "name": "stdout",
     "output_type": "stream",
     "text": [
      "#"
     ]
    },
    {
     "name": "stderr",
     "output_type": "stream",
     "text": [
      "/Users/phil/opt/anaconda3/envs/work_all/lib/python3.9/site-packages/tushare/stock/trading.py:326: FutureWarning: The frame.append method is deprecated and will be removed from pandas in a future version. Use pandas.concat instead.\n",
      "  df = df.append(newdf, ignore_index=True)\n"
     ]
    },
    {
     "name": "stdout",
     "output_type": "stream",
     "text": [
      "#"
     ]
    },
    {
     "name": "stderr",
     "output_type": "stream",
     "text": [
      "/Users/phil/opt/anaconda3/envs/work_all/lib/python3.9/site-packages/tushare/stock/trading.py:326: FutureWarning: The frame.append method is deprecated and will be removed from pandas in a future version. Use pandas.concat instead.\n",
      "  df = df.append(newdf, ignore_index=True)\n"
     ]
    },
    {
     "name": "stdout",
     "output_type": "stream",
     "text": [
      "#"
     ]
    },
    {
     "name": "stderr",
     "output_type": "stream",
     "text": [
      "/Users/phil/opt/anaconda3/envs/work_all/lib/python3.9/site-packages/tushare/stock/trading.py:326: FutureWarning: The frame.append method is deprecated and will be removed from pandas in a future version. Use pandas.concat instead.\n",
      "  df = df.append(newdf, ignore_index=True)\n"
     ]
    },
    {
     "name": "stdout",
     "output_type": "stream",
     "text": [
      "#"
     ]
    },
    {
     "name": "stderr",
     "output_type": "stream",
     "text": [
      "/Users/phil/opt/anaconda3/envs/work_all/lib/python3.9/site-packages/tushare/stock/trading.py:326: FutureWarning: The frame.append method is deprecated and will be removed from pandas in a future version. Use pandas.concat instead.\n",
      "  df = df.append(newdf, ignore_index=True)\n"
     ]
    },
    {
     "name": "stdout",
     "output_type": "stream",
     "text": [
      "#"
     ]
    },
    {
     "name": "stderr",
     "output_type": "stream",
     "text": [
      "/Users/phil/opt/anaconda3/envs/work_all/lib/python3.9/site-packages/tushare/stock/trading.py:326: FutureWarning: The frame.append method is deprecated and will be removed from pandas in a future version. Use pandas.concat instead.\n",
      "  df = df.append(newdf, ignore_index=True)\n"
     ]
    },
    {
     "name": "stdout",
     "output_type": "stream",
     "text": [
      "#"
     ]
    },
    {
     "name": "stderr",
     "output_type": "stream",
     "text": [
      "/Users/phil/opt/anaconda3/envs/work_all/lib/python3.9/site-packages/tushare/stock/trading.py:326: FutureWarning: The frame.append method is deprecated and will be removed from pandas in a future version. Use pandas.concat instead.\n",
      "  df = df.append(newdf, ignore_index=True)\n"
     ]
    },
    {
     "name": "stdout",
     "output_type": "stream",
     "text": [
      "#"
     ]
    },
    {
     "name": "stderr",
     "output_type": "stream",
     "text": [
      "/Users/phil/opt/anaconda3/envs/work_all/lib/python3.9/site-packages/tushare/stock/trading.py:326: FutureWarning: The frame.append method is deprecated and will be removed from pandas in a future version. Use pandas.concat instead.\n",
      "  df = df.append(newdf, ignore_index=True)\n"
     ]
    },
    {
     "name": "stdout",
     "output_type": "stream",
     "text": [
      "#"
     ]
    },
    {
     "name": "stderr",
     "output_type": "stream",
     "text": [
      "/Users/phil/opt/anaconda3/envs/work_all/lib/python3.9/site-packages/tushare/stock/trading.py:326: FutureWarning: The frame.append method is deprecated and will be removed from pandas in a future version. Use pandas.concat instead.\n",
      "  df = df.append(newdf, ignore_index=True)\n"
     ]
    },
    {
     "name": "stdout",
     "output_type": "stream",
     "text": [
      "#"
     ]
    },
    {
     "name": "stderr",
     "output_type": "stream",
     "text": [
      "/Users/phil/opt/anaconda3/envs/work_all/lib/python3.9/site-packages/tushare/stock/trading.py:326: FutureWarning: The frame.append method is deprecated and will be removed from pandas in a future version. Use pandas.concat instead.\n",
      "  df = df.append(newdf, ignore_index=True)\n"
     ]
    },
    {
     "name": "stdout",
     "output_type": "stream",
     "text": [
      "#"
     ]
    },
    {
     "name": "stderr",
     "output_type": "stream",
     "text": [
      "/Users/phil/opt/anaconda3/envs/work_all/lib/python3.9/site-packages/tushare/stock/trading.py:326: FutureWarning: The frame.append method is deprecated and will be removed from pandas in a future version. Use pandas.concat instead.\n",
      "  df = df.append(newdf, ignore_index=True)\n"
     ]
    },
    {
     "name": "stdout",
     "output_type": "stream",
     "text": [
      "#"
     ]
    },
    {
     "name": "stderr",
     "output_type": "stream",
     "text": [
      "/Users/phil/opt/anaconda3/envs/work_all/lib/python3.9/site-packages/tushare/stock/trading.py:326: FutureWarning: The frame.append method is deprecated and will be removed from pandas in a future version. Use pandas.concat instead.\n",
      "  df = df.append(newdf, ignore_index=True)\n"
     ]
    },
    {
     "name": "stdout",
     "output_type": "stream",
     "text": [
      "#"
     ]
    },
    {
     "name": "stderr",
     "output_type": "stream",
     "text": [
      "/Users/phil/opt/anaconda3/envs/work_all/lib/python3.9/site-packages/tushare/stock/trading.py:326: FutureWarning: The frame.append method is deprecated and will be removed from pandas in a future version. Use pandas.concat instead.\n",
      "  df = df.append(newdf, ignore_index=True)\n"
     ]
    },
    {
     "name": "stdout",
     "output_type": "stream",
     "text": [
      "#"
     ]
    },
    {
     "name": "stderr",
     "output_type": "stream",
     "text": [
      "/Users/phil/opt/anaconda3/envs/work_all/lib/python3.9/site-packages/tushare/stock/trading.py:326: FutureWarning: The frame.append method is deprecated and will be removed from pandas in a future version. Use pandas.concat instead.\n",
      "  df = df.append(newdf, ignore_index=True)\n"
     ]
    },
    {
     "name": "stdout",
     "output_type": "stream",
     "text": [
      "#"
     ]
    },
    {
     "name": "stderr",
     "output_type": "stream",
     "text": [
      "/Users/phil/opt/anaconda3/envs/work_all/lib/python3.9/site-packages/tushare/stock/trading.py:326: FutureWarning: The frame.append method is deprecated and will be removed from pandas in a future version. Use pandas.concat instead.\n",
      "  df = df.append(newdf, ignore_index=True)\n"
     ]
    },
    {
     "name": "stdout",
     "output_type": "stream",
     "text": [
      "#"
     ]
    },
    {
     "name": "stderr",
     "output_type": "stream",
     "text": [
      "/Users/phil/opt/anaconda3/envs/work_all/lib/python3.9/site-packages/tushare/stock/trading.py:326: FutureWarning: The frame.append method is deprecated and will be removed from pandas in a future version. Use pandas.concat instead.\n",
      "  df = df.append(newdf, ignore_index=True)\n"
     ]
    },
    {
     "name": "stdout",
     "output_type": "stream",
     "text": [
      "#"
     ]
    },
    {
     "name": "stderr",
     "output_type": "stream",
     "text": [
      "/Users/phil/opt/anaconda3/envs/work_all/lib/python3.9/site-packages/tushare/stock/trading.py:326: FutureWarning: The frame.append method is deprecated and will be removed from pandas in a future version. Use pandas.concat instead.\n",
      "  df = df.append(newdf, ignore_index=True)\n"
     ]
    },
    {
     "name": "stdout",
     "output_type": "stream",
     "text": [
      "#"
     ]
    },
    {
     "name": "stderr",
     "output_type": "stream",
     "text": [
      "/Users/phil/opt/anaconda3/envs/work_all/lib/python3.9/site-packages/tushare/stock/trading.py:326: FutureWarning: The frame.append method is deprecated and will be removed from pandas in a future version. Use pandas.concat instead.\n",
      "  df = df.append(newdf, ignore_index=True)\n"
     ]
    },
    {
     "name": "stdout",
     "output_type": "stream",
     "text": [
      "#"
     ]
    },
    {
     "name": "stderr",
     "output_type": "stream",
     "text": [
      "/Users/phil/opt/anaconda3/envs/work_all/lib/python3.9/site-packages/tushare/stock/trading.py:326: FutureWarning: The frame.append method is deprecated and will be removed from pandas in a future version. Use pandas.concat instead.\n",
      "  df = df.append(newdf, ignore_index=True)\n"
     ]
    },
    {
     "name": "stdout",
     "output_type": "stream",
     "text": [
      "#"
     ]
    },
    {
     "name": "stderr",
     "output_type": "stream",
     "text": [
      "/Users/phil/opt/anaconda3/envs/work_all/lib/python3.9/site-packages/tushare/stock/trading.py:326: FutureWarning: The frame.append method is deprecated and will be removed from pandas in a future version. Use pandas.concat instead.\n",
      "  df = df.append(newdf, ignore_index=True)\n"
     ]
    },
    {
     "name": "stdout",
     "output_type": "stream",
     "text": [
      "#"
     ]
    },
    {
     "name": "stderr",
     "output_type": "stream",
     "text": [
      "/Users/phil/opt/anaconda3/envs/work_all/lib/python3.9/site-packages/tushare/stock/trading.py:326: FutureWarning: The frame.append method is deprecated and will be removed from pandas in a future version. Use pandas.concat instead.\n",
      "  df = df.append(newdf, ignore_index=True)\n"
     ]
    },
    {
     "name": "stdout",
     "output_type": "stream",
     "text": [
      "#"
     ]
    },
    {
     "name": "stderr",
     "output_type": "stream",
     "text": [
      "/Users/phil/opt/anaconda3/envs/work_all/lib/python3.9/site-packages/tushare/stock/trading.py:326: FutureWarning: The frame.append method is deprecated and will be removed from pandas in a future version. Use pandas.concat instead.\n",
      "  df = df.append(newdf, ignore_index=True)\n"
     ]
    },
    {
     "name": "stdout",
     "output_type": "stream",
     "text": [
      "#"
     ]
    },
    {
     "name": "stderr",
     "output_type": "stream",
     "text": [
      "/Users/phil/opt/anaconda3/envs/work_all/lib/python3.9/site-packages/tushare/stock/trading.py:326: FutureWarning: The frame.append method is deprecated and will be removed from pandas in a future version. Use pandas.concat instead.\n",
      "  df = df.append(newdf, ignore_index=True)\n"
     ]
    },
    {
     "name": "stdout",
     "output_type": "stream",
     "text": [
      "#"
     ]
    },
    {
     "name": "stderr",
     "output_type": "stream",
     "text": [
      "/Users/phil/opt/anaconda3/envs/work_all/lib/python3.9/site-packages/tushare/stock/trading.py:326: FutureWarning: The frame.append method is deprecated and will be removed from pandas in a future version. Use pandas.concat instead.\n",
      "  df = df.append(newdf, ignore_index=True)\n"
     ]
    },
    {
     "name": "stdout",
     "output_type": "stream",
     "text": [
      "#"
     ]
    },
    {
     "name": "stderr",
     "output_type": "stream",
     "text": [
      "/Users/phil/opt/anaconda3/envs/work_all/lib/python3.9/site-packages/tushare/stock/trading.py:329: FutureWarning: The frame.append method is deprecated and will be removed from pandas in a future version. Use pandas.concat instead.\n",
      "  df = df.append(_parsing_dayprice_json('shfxjs', 1),\n"
     ]
    },
    {
     "data": {
      "text/plain": "        code   name  changepercent  trade   open   high    low  settlement  \\\n0     873593   鼎智科技          1.924  92.20  90.55  94.47  87.23       90.46   \n1     873527    夜光明          0.844   7.17   7.11   7.17   7.08        7.11   \n2     873339   恒太照明         -0.438   4.55   4.55   4.62   4.54        4.57   \n3     873305   九菱科技         -0.098  10.15  10.24  10.25  10.05       10.16   \n4     873223   荣亿精密          0.000   2.95   2.97   2.97   2.92        2.95   \n...      ...    ...            ...    ...    ...    ...    ...         ...   \n5283  600078   ST澄星         -1.152   9.44   9.49   9.60   9.37        9.55   \n5284  600077  *ST宋都         -5.172   0.55   0.55   0.55   0.55        0.58   \n5285  600071   凤凰光学         -0.203  19.67  19.68  19.80  19.50       19.71   \n5286  600070   ST富润          5.000   3.36   3.17   3.36   3.15        3.20   \n5287  600069   退市银鸽          0.000   0.28   0.00   0.00   0.00        0.28   \n\n       volume  turnoverratio     amount      per      pb         mktcap  \\\n0     1653922        9.20622  151709999   30.230  14.464  442763.199580   \n1      242719        0.93809    1722853   10.864   1.132   43050.615900   \n2       25407        0.04265     116757    6.894   1.736  100192.729000   \n3       12500        0.13927     126439   16.639   1.468   45491.285000   \n4       48346        0.09992     141750   49.167   1.470   46399.075000   \n...       ...            ...        ...      ...     ...            ...   \n5283  6529700        0.98551   61752679   11.995   3.131  625468.780784   \n5284   722900        0.05394     397595   -0.194   1.034   73706.727930   \n5285  2093118        0.74336   41100824  983.500  11.057  553855.839663   \n5286  9088210        1.79353   29659948   -2.897   1.442  170493.365952   \n5287        0        0.00000          0    0.197   2.814   48616.389976   \n\n                nmc  \n0     165639.706420  \n1      18551.417088  \n2      27106.264185  \n3       9109.997505  \n4      14273.575000  \n...             ...  \n5283  625468.780784  \n5284   73706.727930  \n5285  553855.839663  \n5286  170258.165952  \n5287   14038.882200  \n\n[5288 rows x 15 columns]",
      "text/html": "<div>\n<style scoped>\n    .dataframe tbody tr th:only-of-type {\n        vertical-align: middle;\n    }\n\n    .dataframe tbody tr th {\n        vertical-align: top;\n    }\n\n    .dataframe thead th {\n        text-align: right;\n    }\n</style>\n<table border=\"1\" class=\"dataframe\">\n  <thead>\n    <tr style=\"text-align: right;\">\n      <th></th>\n      <th>code</th>\n      <th>name</th>\n      <th>changepercent</th>\n      <th>trade</th>\n      <th>open</th>\n      <th>high</th>\n      <th>low</th>\n      <th>settlement</th>\n      <th>volume</th>\n      <th>turnoverratio</th>\n      <th>amount</th>\n      <th>per</th>\n      <th>pb</th>\n      <th>mktcap</th>\n      <th>nmc</th>\n    </tr>\n  </thead>\n  <tbody>\n    <tr>\n      <th>0</th>\n      <td>873593</td>\n      <td>鼎智科技</td>\n      <td>1.924</td>\n      <td>92.20</td>\n      <td>90.55</td>\n      <td>94.47</td>\n      <td>87.23</td>\n      <td>90.46</td>\n      <td>1653922</td>\n      <td>9.20622</td>\n      <td>151709999</td>\n      <td>30.230</td>\n      <td>14.464</td>\n      <td>442763.199580</td>\n      <td>165639.706420</td>\n    </tr>\n    <tr>\n      <th>1</th>\n      <td>873527</td>\n      <td>夜光明</td>\n      <td>0.844</td>\n      <td>7.17</td>\n      <td>7.11</td>\n      <td>7.17</td>\n      <td>7.08</td>\n      <td>7.11</td>\n      <td>242719</td>\n      <td>0.93809</td>\n      <td>1722853</td>\n      <td>10.864</td>\n      <td>1.132</td>\n      <td>43050.615900</td>\n      <td>18551.417088</td>\n    </tr>\n    <tr>\n      <th>2</th>\n      <td>873339</td>\n      <td>恒太照明</td>\n      <td>-0.438</td>\n      <td>4.55</td>\n      <td>4.55</td>\n      <td>4.62</td>\n      <td>4.54</td>\n      <td>4.57</td>\n      <td>25407</td>\n      <td>0.04265</td>\n      <td>116757</td>\n      <td>6.894</td>\n      <td>1.736</td>\n      <td>100192.729000</td>\n      <td>27106.264185</td>\n    </tr>\n    <tr>\n      <th>3</th>\n      <td>873305</td>\n      <td>九菱科技</td>\n      <td>-0.098</td>\n      <td>10.15</td>\n      <td>10.24</td>\n      <td>10.25</td>\n      <td>10.05</td>\n      <td>10.16</td>\n      <td>12500</td>\n      <td>0.13927</td>\n      <td>126439</td>\n      <td>16.639</td>\n      <td>1.468</td>\n      <td>45491.285000</td>\n      <td>9109.997505</td>\n    </tr>\n    <tr>\n      <th>4</th>\n      <td>873223</td>\n      <td>荣亿精密</td>\n      <td>0.000</td>\n      <td>2.95</td>\n      <td>2.97</td>\n      <td>2.97</td>\n      <td>2.92</td>\n      <td>2.95</td>\n      <td>48346</td>\n      <td>0.09992</td>\n      <td>141750</td>\n      <td>49.167</td>\n      <td>1.470</td>\n      <td>46399.075000</td>\n      <td>14273.575000</td>\n    </tr>\n    <tr>\n      <th>...</th>\n      <td>...</td>\n      <td>...</td>\n      <td>...</td>\n      <td>...</td>\n      <td>...</td>\n      <td>...</td>\n      <td>...</td>\n      <td>...</td>\n      <td>...</td>\n      <td>...</td>\n      <td>...</td>\n      <td>...</td>\n      <td>...</td>\n      <td>...</td>\n      <td>...</td>\n    </tr>\n    <tr>\n      <th>5283</th>\n      <td>600078</td>\n      <td>ST澄星</td>\n      <td>-1.152</td>\n      <td>9.44</td>\n      <td>9.49</td>\n      <td>9.60</td>\n      <td>9.37</td>\n      <td>9.55</td>\n      <td>6529700</td>\n      <td>0.98551</td>\n      <td>61752679</td>\n      <td>11.995</td>\n      <td>3.131</td>\n      <td>625468.780784</td>\n      <td>625468.780784</td>\n    </tr>\n    <tr>\n      <th>5284</th>\n      <td>600077</td>\n      <td>*ST宋都</td>\n      <td>-5.172</td>\n      <td>0.55</td>\n      <td>0.55</td>\n      <td>0.55</td>\n      <td>0.55</td>\n      <td>0.58</td>\n      <td>722900</td>\n      <td>0.05394</td>\n      <td>397595</td>\n      <td>-0.194</td>\n      <td>1.034</td>\n      <td>73706.727930</td>\n      <td>73706.727930</td>\n    </tr>\n    <tr>\n      <th>5285</th>\n      <td>600071</td>\n      <td>凤凰光学</td>\n      <td>-0.203</td>\n      <td>19.67</td>\n      <td>19.68</td>\n      <td>19.80</td>\n      <td>19.50</td>\n      <td>19.71</td>\n      <td>2093118</td>\n      <td>0.74336</td>\n      <td>41100824</td>\n      <td>983.500</td>\n      <td>11.057</td>\n      <td>553855.839663</td>\n      <td>553855.839663</td>\n    </tr>\n    <tr>\n      <th>5286</th>\n      <td>600070</td>\n      <td>ST富润</td>\n      <td>5.000</td>\n      <td>3.36</td>\n      <td>3.17</td>\n      <td>3.36</td>\n      <td>3.15</td>\n      <td>3.20</td>\n      <td>9088210</td>\n      <td>1.79353</td>\n      <td>29659948</td>\n      <td>-2.897</td>\n      <td>1.442</td>\n      <td>170493.365952</td>\n      <td>170258.165952</td>\n    </tr>\n    <tr>\n      <th>5287</th>\n      <td>600069</td>\n      <td>退市银鸽</td>\n      <td>0.000</td>\n      <td>0.28</td>\n      <td>0.00</td>\n      <td>0.00</td>\n      <td>0.00</td>\n      <td>0.28</td>\n      <td>0</td>\n      <td>0.00000</td>\n      <td>0</td>\n      <td>0.197</td>\n      <td>2.814</td>\n      <td>48616.389976</td>\n      <td>14038.882200</td>\n    </tr>\n  </tbody>\n</table>\n<p>5288 rows × 15 columns</p>\n</div>"
     },
     "execution_count": 10,
     "metadata": {},
     "output_type": "execute_result"
    }
   ],
   "source": [
    "df2 = ts.get_today_all()\n",
    "df2"
   ],
   "metadata": {
    "collapsed": false,
    "ExecuteTime": {
     "end_time": "2023-06-05T14:51:56.532270Z",
     "start_time": "2023-06-05T14:51:21.481800Z"
    }
   }
  }
 ],
 "metadata": {
  "kernelspec": {
   "display_name": "Python 3",
   "language": "python",
   "name": "python3"
  },
  "language_info": {
   "codemirror_mode": {
    "name": "ipython",
    "version": 2
   },
   "file_extension": ".py",
   "mimetype": "text/x-python",
   "name": "python",
   "nbconvert_exporter": "python",
   "pygments_lexer": "ipython2",
   "version": "2.7.6"
  }
 },
 "nbformat": 4,
 "nbformat_minor": 0
}

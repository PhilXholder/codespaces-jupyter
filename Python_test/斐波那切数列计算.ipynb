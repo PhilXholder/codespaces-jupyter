{
 "cells": [
  {
   "cell_type": "code",
   "execution_count": 1,
   "id": "initial_id",
   "metadata": {
    "collapsed": true,
    "ExecuteTime": {
     "end_time": "2023-08-06T16:32:49.798096Z",
     "start_time": "2023-08-06T16:32:49.796064Z"
    }
   },
   "outputs": [],
   "source": [
    "def fibonacci(n):\n",
    "    if n <= 0:\n",
    "        return \"输入的数字必须大于0\"\n",
    "    elif n == 1:\n",
    "        return 0\n",
    "    elif n == 2:\n",
    "        return 1\n",
    "    else:\n",
    "        prev_1 = 0\n",
    "        prev_2 = 1\n",
    "        fib = 0\n",
    "        for i in range(3, n + 1):\n",
    "            fib = prev_1 + prev_2\n",
    "            prev_1 = prev_2\n",
    "            prev_2 = fib\n",
    "        return fib"
   ]
  },
  {
   "cell_type": "code",
   "execution_count": 2,
   "outputs": [],
   "source": [
    "def feibo(n):\n",
    "    if n <= 0:\n",
    "        print('不存在')\n",
    "    elif n == 1:\n",
    "        return 0\n",
    "    elif n == 2:\n",
    "        return 1\n",
    "    else:\n",
    "        a = 0\n",
    "        b = 1\n",
    "        for i in range(3, n + 1):\n",
    "            fib = a + b\n",
    "            a = b\n",
    "            b = fib\n",
    "        return fib\t\t"
   ],
   "metadata": {
    "collapsed": false,
    "ExecuteTime": {
     "end_time": "2023-08-06T16:37:17.513941Z",
     "start_time": "2023-08-06T16:37:17.503461Z"
    }
   },
   "id": "5be869e78916b159"
  },
  {
   "cell_type": "code",
   "execution_count": 4,
   "outputs": [
    {
     "name": "stdout",
     "output_type": "stream",
     "text": [
      "[8, 8]\n"
     ]
    }
   ],
   "source": [
    "print([feibo(7),fibonacci(7)])"
   ],
   "metadata": {
    "collapsed": false,
    "ExecuteTime": {
     "end_time": "2023-08-06T16:38:02.923420Z",
     "start_time": "2023-08-06T16:38:02.917393Z"
    }
   },
   "id": "6b9fe306d6d881a8"
  }
 ],
 "metadata": {
  "kernelspec": {
   "display_name": "Python 3",
   "language": "python",
   "name": "python3"
  },
  "language_info": {
   "codemirror_mode": {
    "name": "ipython",
    "version": 2
   },
   "file_extension": ".py",
   "mimetype": "text/x-python",
   "name": "python",
   "nbconvert_exporter": "python",
   "pygments_lexer": "ipython2",
   "version": "2.7.6"
  }
 },
 "nbformat": 4,
 "nbformat_minor": 5
}
